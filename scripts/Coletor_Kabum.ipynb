{
 "cells": [
  {
   "cell_type": "code",
   "execution_count": null,
   "metadata": {},
   "outputs": [],
   "source": [
    "import pandas as pd\n",
    "from selenium import webdriver\n",
    "from selenium.webdriver.common.by import By\n",
    "from selenium.webdriver.support.ui import WebDriverWait\n",
    "from selenium.webdriver.support.ui import Select\n",
    "from selenium.webdriver.support import expected_conditions as EC\n",
    "import time\n",
    "import glob\n"
   ]
  },
  {
   "cell_type": "code",
   "execution_count": null,
   "metadata": {},
   "outputs": [],
   "source": [
    "navegador = webdriver.Chrome()"
   ]
  },
  {
   "cell_type": "code",
   "execution_count": null,
   "metadata": {},
   "outputs": [],
   "source": [
    "navegador.get('https://www.kabum.com.br/hardware')"
   ]
  },
  {
   "cell_type": "code",
   "execution_count": null,
   "metadata": {},
   "outputs": [],
   "source": [
    "navegador.maximize_window()"
   ]
  },
  {
   "cell_type": "code",
   "execution_count": null,
   "metadata": {},
   "outputs": [],
   "source": [
    "navegador.find_element(By.XPATH, '//*[@id=\"listing\"]/div[3]/div/div/div[2]/div/div[2]/div/div/a[2]').click()"
   ]
  },
  {
   "cell_type": "code",
   "execution_count": null,
   "metadata": {},
   "outputs": [],
   "source": [
    "#navegador.find_element(By.XPATH, '//*[@id=\"Filter\"]/label/select').click()"
   ]
  },
  {
   "cell_type": "code",
   "execution_count": null,
   "metadata": {},
   "outputs": [],
   "source": [
    "navegador.find_element(By.XPATH, '//*[@id=\"Filter\"]/label/select/option[2]').click()\n",
    "time.sleep(5)  "
   ]
  },
  {
   "cell_type": "code",
   "execution_count": null,
   "metadata": {},
   "outputs": [],
   "source": [
    "# Consultando o produto\n",
    "try:\n",
    "        navegador.find_element(By.XPATH, '//*[@id=\"listing\"]/div[3]/div/div/div[2]/div/main/div[1]/article/a/div/button/div/h3/span').text\n",
    "except:\n",
    "        pass"
   ]
  },
  {
   "cell_type": "code",
   "execution_count": null,
   "metadata": {},
   "outputs": [],
   "source": [
    "# Consultando o preço\n",
    "try:\n",
    "    navegador.find_element(By.XPATH, '//*[@id=\"listing\"]/div[3]/div/div/div[2]/div/main/div[1]/article/a/div/div[2]/div[2]/span').text\n",
    "except:\n",
    "        pass\n"
   ]
  },
  {
   "cell_type": "code",
   "execution_count": null,
   "metadata": {},
   "outputs": [],
   "source": [
    "# Consultando o desconto\n",
    "try:\n",
    "    navegador.find_element(By.XPATH, '//*[@id=\"listing\"]/div[3]/div/div/div[2]/div/main/div[3]/article/a/div/div[2]/div[2]/div').text\n",
    "except:\n",
    "        pass\n"
   ]
  },
  {
   "cell_type": "code",
   "execution_count": null,
   "metadata": {},
   "outputs": [],
   "source": [
    "# Armazenar os produtos\n",
    "lista_itens_Coller = []\n",
    "for item in range(1,41):\n",
    "    try:\n",
    "        dado_item = navegador.find_element(By.XPATH, f'//*[@id=\"listing\"]/div[3]/div/div/div[2]/div/main/div[{item}]/article/a/div/button/div/h3/span').text\n",
    "        lista_itens_Coller.append(dado_item)\n",
    "    except:\n",
    "        pass\n",
    "\n"
   ]
  },
  {
   "cell_type": "code",
   "execution_count": null,
   "metadata": {},
   "outputs": [],
   "source": [
    "# Armazenar preços\n",
    "lista_preco_Coller = []\n",
    "for preco in range(1,41):\n",
    "    try:\n",
    "        dado_preco = navegador.find_element(By.XPATH, f'//*[@id=\"listing\"]/div[3]/div/div/div[2]/div/main/div[{preco}]/article/a/div/div[2]/div[2]/span').text\n",
    "        lista_preco_Coller.append(dado_preco)\n",
    "    except:\n",
    "        pass"
   ]
  },
  {
   "cell_type": "code",
   "execution_count": null,
   "metadata": {},
   "outputs": [],
   "source": [
    "lista_desconto_Coller = []\n",
    "for desconto in range(1,41):\n",
    "    try:\n",
    "        dado_desconto = navegador.find_element(By.XPATH, f'//*[@id=\"listing\"]/div[3]/div/div/div[2]/div/main/div[{desconto}]/article/a/div/div[2]/div[2]/div').text\n",
    "        lista_desconto_Coller.append(dado_desconto)\n",
    "    except:\n",
    "        pass"
   ]
  },
  {
   "cell_type": "code",
   "execution_count": null,
   "metadata": {},
   "outputs": [],
   "source": [
    "lista_categoria_Coller = []\n",
    "for cat in range(1,41):\n",
    "    lista_categoria_Coller.append('Coller')"
   ]
  },
  {
   "cell_type": "code",
   "execution_count": null,
   "metadata": {},
   "outputs": [],
   "source": [
    "tabela1_Coller = pd.DataFrame(lista_itens_Coller, columns=['Produto'])\n",
    "tabela2_Coller = pd.DataFrame(lista_preco_Coller, columns=['Preço'])\n",
    "tabela3_Coller = pd.DataFrame(lista_desconto_Coller, columns=['Desconto'])\n",
    "tabela4_Coller = pd.DataFrame(lista_categoria_Coller, columns=['Categoria'])\n",
    "df_Coller = pd.concat([tabela1_Coller, tabela2_Coller, tabela3_Coller, tabela4_Coller], axis=1)"
   ]
  },
  {
   "cell_type": "code",
   "execution_count": null,
   "metadata": {},
   "outputs": [],
   "source": [
    "df_Coller"
   ]
  },
  {
   "cell_type": "code",
   "execution_count": null,
   "metadata": {},
   "outputs": [],
   "source": [
    "df_Coller['Preço'] = df_Coller.Preço.str.replace('R$','R$').str.split(' ').str.get(1).str.replace('.','').str.replace(',','.')\n"
   ]
  },
  {
   "cell_type": "code",
   "execution_count": null,
   "metadata": {},
   "outputs": [],
   "source": [
    "\n",
    "df_Coller.to_csv('../basesoriginais/Dados_Kabum_Coller.csv')"
   ]
  },
  {
   "cell_type": "code",
   "execution_count": null,
   "metadata": {},
   "outputs": [],
   "source": [
    "# Retornar para a pagina inicial\n",
    "navegador.find_element(By.XPATH, '//*[@id=\"listing\"]/div[3]/div/div/div[2]/div/div[2]/div/div/a[1]').click()"
   ]
  },
  {
   "cell_type": "code",
   "execution_count": null,
   "metadata": {},
   "outputs": [],
   "source": [
    "# proxima catégoria - Disco rígido\n",
    "navegador.find_element(By.XPATH, '//*[@id=\"listing\"]/div[3]/div/div/div[2]/div/div[2]/div/div/a[3]').click()"
   ]
  },
  {
   "cell_type": "code",
   "execution_count": null,
   "metadata": {},
   "outputs": [],
   "source": [
    "navegador.find_element(By.XPATH, '//*[@id=\"Filter\"]/label/select/option[2]').click()\n",
    "time.sleep(5)  "
   ]
  },
  {
   "cell_type": "code",
   "execution_count": null,
   "metadata": {},
   "outputs": [],
   "source": [
    "# Armazenar os produtos\n",
    "lista_itens_Disco = []\n",
    "for item in range(1,41):\n",
    "    try:\n",
    "        dado_item = navegador.find_element(By.XPATH, f'//*[@id=\"listing\"]/div[3]/div/div/div[2]/div/main/div[{item}]/article/a/div/button/div/h3/span').text\n",
    "        lista_itens_Disco.append(dado_item)\n",
    "    except:\n",
    "        pass\n"
   ]
  },
  {
   "cell_type": "code",
   "execution_count": null,
   "metadata": {},
   "outputs": [],
   "source": [
    "# Armazenar preços\n",
    "lista_preco_Disco = []\n",
    "for preco in range(1,41):\n",
    "    try:\n",
    "        dado_preco = navegador.find_element(By.XPATH, f'//*[@id=\"listing\"]/div[3]/div/div/div[2]/div/main/div[{preco}]/article/a/div/div[2]/div[2]/span').text\n",
    "        lista_preco_Disco.append(dado_preco)\n",
    "    except:\n",
    "        pass"
   ]
  },
  {
   "cell_type": "code",
   "execution_count": null,
   "metadata": {},
   "outputs": [],
   "source": [
    "# Armazena os descontos\n",
    "lista_desconto_Disco = []\n",
    "for desconto in range(1,41):\n",
    "    try:\n",
    "        dado_desconto = navegador.find_element(By.XPATH, f'//*[@id=\"listing\"]/div[3]/div/div/div[2]/div/main/div[{desconto}]/article/a/div/div[2]/div[2]/div').text\n",
    "        lista_desconto_Disco.append(dado_desconto)\n",
    "    except:\n",
    "        pass"
   ]
  },
  {
   "cell_type": "code",
   "execution_count": null,
   "metadata": {},
   "outputs": [],
   "source": [
    "lista_categoria_Disco = []\n",
    "for i in range(1,41):\n",
    "    lista_categoria_Disco.append('Disco Rigido (HD)')"
   ]
  },
  {
   "cell_type": "code",
   "execution_count": null,
   "metadata": {},
   "outputs": [],
   "source": [
    "tabela1_Disco = pd.DataFrame(lista_itens_Disco, columns=['Produto'])\n",
    "tabela2_Disco = pd.DataFrame(lista_preco_Disco, columns=['Preço'])\n",
    "tabela3_Disco = pd.DataFrame(lista_desconto_Disco, columns=['Desconto'])\n",
    "tabela4_Disco = pd.DataFrame(lista_categoria_Disco, columns=['Categoria'])\n",
    "df_Disco = pd.concat([tabela1_Disco, tabela2_Disco, tabela3_Disco, tabela4_Disco], axis=1)"
   ]
  },
  {
   "cell_type": "code",
   "execution_count": null,
   "metadata": {},
   "outputs": [],
   "source": [
    "df_Disco['Preço'] = df_Disco.Preço.str.replace('R$','R$').str.split(' ').str.get(1).str.replace('.','').str.replace(',','.')"
   ]
  },
  {
   "cell_type": "code",
   "execution_count": null,
   "metadata": {},
   "outputs": [],
   "source": [
    "df_Disco"
   ]
  },
  {
   "cell_type": "code",
   "execution_count": null,
   "metadata": {},
   "outputs": [],
   "source": [
    "df_Disco.to_csv('../basesoriginais/Dados_Kabum_Disco.csv')"
   ]
  },
  {
   "cell_type": "code",
   "execution_count": null,
   "metadata": {},
   "outputs": [],
   "source": [
    "path = \"./basesoriginais/\"\n",
    "all_files = glob.glob(path + \"*.csv\")"
   ]
  },
  {
   "cell_type": "code",
   "execution_count": null,
   "metadata": {},
   "outputs": [],
   "source": [
    "dfs = []\n",
    "for file in all_files:\n",
    "    df = pd.read_csv(file)\n",
    "    dfs.append(df)"
   ]
  },
  {
   "cell_type": "code",
   "execution_count": null,
   "metadata": {},
   "outputs": [],
   "source": [
    "all_columns = set()\n",
    "for df in dfs:\n",
    "    all_columns.update(df.columns)"
   ]
  },
  {
   "cell_type": "code",
   "execution_count": null,
   "metadata": {},
   "outputs": [],
   "source": [
    "all_columns = sorted(list(all_columns))\n",
    "normalized_dfs = []\n",
    "for df in dfs:\n",
    "    normalized_df = df.reindex(columns=all_columns, fill_value=None)\n",
    "    normalized_dfs.append(normalized_df)"
   ]
  },
  {
   "cell_type": "code",
   "execution_count": null,
   "metadata": {},
   "outputs": [],
   "source": [
    "final_df = pd.concat(normalized_dfs, ignore_index=True)\n",
    "final_df.to_csv(\"../basestratadas/Dados_tratados.csv\", index=False)"
   ]
  }
 ],
 "metadata": {
  "kernelspec": {
   "display_name": "Python 3",
   "language": "python",
   "name": "python3"
  },
  "language_info": {
   "codemirror_mode": {
    "name": "ipython",
    "version": 3
   },
   "file_extension": ".py",
   "mimetype": "text/x-python",
   "name": "python",
   "nbconvert_exporter": "python",
   "pygments_lexer": "ipython3",
   "version": "3.12.2"
  }
 },
 "nbformat": 4,
 "nbformat_minor": 2
}
