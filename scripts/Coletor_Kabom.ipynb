{
 "cells": [
  {
   "cell_type": "code",
   "execution_count": 88,
   "metadata": {},
   "outputs": [],
   "source": [
    "import pandas as pd\n",
    "from selenium import webdriver\n",
    "from selenium.webdriver.common.by import By\n",
    "from selenium.webdriver.support.ui import WebDriverWait\n",
    "from selenium.webdriver.support.ui import Select\n",
    "from selenium.webdriver.support import expected_conditions as EC"
   ]
  },
  {
   "cell_type": "code",
   "execution_count": 89,
   "metadata": {},
   "outputs": [],
   "source": [
    "navegador = webdriver.Chrome()"
   ]
  },
  {
   "cell_type": "code",
   "execution_count": 90,
   "metadata": {},
   "outputs": [],
   "source": [
    "navegador.get('https://www.kabum.com.br/promocao/COMPUTADORKABUM')"
   ]
  },
  {
   "cell_type": "code",
   "execution_count": 91,
   "metadata": {},
   "outputs": [],
   "source": [
    "navegador.maximize_window()"
   ]
  },
  {
   "cell_type": "code",
   "execution_count": 92,
   "metadata": {},
   "outputs": [],
   "source": [
    "navegador.find_element(By.XPATH, '//*[@id=\"Filter\"]/label/select/option[4]').click()"
   ]
  },
  {
   "cell_type": "code",
   "execution_count": 93,
   "metadata": {},
   "outputs": [],
   "source": [
    "# Consultando os produtos\n",
    "try:\n",
    "    navegador.find_element(By.XPATH, '//*[@id=\"listing\"]/div[3]/div/div/div[2]/div/main/div[1]/article/a/div/button/div/h3/span').text\n",
    "except:\n",
    "    pass"
   ]
  },
  {
   "cell_type": "code",
   "execution_count": 94,
   "metadata": {},
   "outputs": [],
   "source": [
    "# Consulta o preço\n",
    "try:\n",
    "    navegador.find_element(By.XPATH, '//*[@id=\"listing\"]/div[3]/div/div/div[2]/div/main/div[1]/article/a/div/div[2]/div[2]/span').text\n",
    "except:\n",
    "    pass"
   ]
  },
  {
   "cell_type": "code",
   "execution_count": 95,
   "metadata": {},
   "outputs": [],
   "source": [
    "# Armazenar os produtos\n",
    "\n",
    "lista_itens = []\n",
    "for item in range(1,75):\n",
    "    try:\n",
    "        dado_item = navegador.find_element(By.XPATH, f'//*[@id=\"listing\"]/div[3]/div/div/div[2]/div/main/div[{item}]/article/a/div/button/div/h3/span').text\n",
    "        lista_itens.append(dado_item)\n",
    "    except:\n",
    "        pass\n",
    "\n",
    "    "
   ]
  },
  {
   "cell_type": "code",
   "execution_count": 96,
   "metadata": {},
   "outputs": [
    {
     "data": {
      "text/plain": [
       "['Monitor Portátil Acer 15.6 Full HD, 60Hz, IPS, HDMI e USB, Som integrado, Preto - PM161Q',\n",
       " 'Notebook Samsung Galaxy Book3 360, Intel Core I5-1335U, 8GB RAM, SSD 256GB, 13.3 Full HD, Windows 11 Home, Grafite - NP730QFG-KF2BR',\n",
       " 'Notebook Gamer Lenovo Legion Slim 5i Intel Core I5-13420H, 16GB RAM, GeForce RTX3050, SSD 512GB, 16\" 2K QHD, Win 11, Cinza - 83D60003BR',\n",
       " 'Monitor Gamer Gigabyte 31\", 170Hz, QHD, 1ms, DisplayPort e HDMI, 109% sRGB, HDR, Adaptive-Sync - GS32QC SA',\n",
       " 'iMac Apple Tela Retina 24\" 4.5K, Chip M3, CPU 8 Núcleos GPU 8 Núcleos, SSD 256GB, Azul - MQRC3BZ/A',\n",
       " 'MacBook Pro Apple 14\", M3 Pro, CPU 12 Núcleos, GPU 18 Núcleos, 18GB RAM, SSD 1TB, Preto Espacial - MRX43BZ/A',\n",
       " 'MacBook Pro Apple 14\", M3 Max, CPU 14 Núcleos, GPU 30 Núcleos, 36GB RAM, SSD de 1TB, Preto Espacial - MRX53BZ/A',\n",
       " 'MacBook Pro Apple 14\", M3 Pro, CPU 11 Núcleos, GPU 14 Núcleos, 18GB RAM, SSD 512GB, Prateado - MRX63BZ/A',\n",
       " 'MacBook Pro Apple 14\", M3 Pro, CPU 12 Núcleos, GPU 18 Núcleos, 18GB RAM, SSD 1TB, Prateado - MRX73BZ/A',\n",
       " 'MacBook Pro Apple 14\", M3 Max, CPU 14 Núcleos, GPU 30 Núcleos, 36GB RAM, SSD 1TB, Cinza - MRX83BZ/A',\n",
       " 'MacBook Pro Apple 14\", M3, CPU 8 Núcleos, GPU 10 Núcleos, 8GB RAM, SSD 1TB, Cinza-espacial - MTL83BZ/A',\n",
       " 'Monitor Gamer AsRock 27\" 165Hz, Full HD, 1ms, IPS, DisplayPort e HDMI, HDR, FreeSync, 123% sRGB - PG27FF1A',\n",
       " 'Monitor Gamer AsRock 24.5\", 100Hz, Full HD, 1ms, IPS, DisplayPort e HDMI, FreeSync, 99% sRGB - CL25FF',\n",
       " 'Notebook ASUS VivoBook Go 15 E1504FA AMD RYZEN 5 7520U, 8GB RAM, SSD 256GB, 15,6\" LED FHD, W11 Home - E1504FA-NJ825W',\n",
       " 'Monitor Gamer ASUS TUF VG27AQL3A, 27 QHD, 180Hz, Fast IPS, 1ms, Freesync Premium, G-Sync, 130% sRGB, DisplayHDR 400 - 90LM09A0-B013X0',\n",
       " 'Monitor Gamer KBM! GAMING MG250 - 25\" LED Full HD, 180Hz, 1ms, HDMI e DisplayPort, Adaptive Sync, Ajuste de Ângulo - KGMG25025PT',\n",
       " 'Notebook Lenovo LOQ Intel Core i5-12450H, 16GB RAM, GeForce RTX 2050 4GB, SSD 512GB, 15.6\" Full HD, Windows 11 Home, Cinza - 83EU0001BR',\n",
       " 'Notebook Lenovo IdeaPad 1i Intel Core i5-1235U, 8GB RAM, SSD 512GB, Tela 15.6\" HD, Windows 11, Cinza - 82VY000QBR',\n",
       " 'Monitor Gamer MSI G274F, 27\", 180Hz, Full HD, 1ms, DisplayPort e HDMI, Adaptive-Sync',\n",
       " 'Monitor Gamer AOC 23.8\" Full HD, 100Hz, 1ms, IPS, DisplayPort e HDMI, Adaptive-Sync - 24G2E1',\n",
       " 'Computador NTC I3-12100, 8GB RAM, SSD 256 NVMe, Fonte 300W, Linux - Ntc 4400 As']"
      ]
     },
     "execution_count": 96,
     "metadata": {},
     "output_type": "execute_result"
    }
   ],
   "source": [
    "lista_itens"
   ]
  },
  {
   "cell_type": "code",
   "execution_count": 97,
   "metadata": {},
   "outputs": [],
   "source": [
    "# Armazenar preços\n",
    "lista_preco = []\n",
    "for item in range(1,75):\n",
    "    try:\n",
    "        dado_preco = navegador.find_element(By.XPATH, f'//*[@id=\"listing\"]/div[3]/div/div/div[2]/div/main/div[{item}]/article/a/div/div[2]/div[2]/span').text\n",
    "        lista_preco.append(dado_preco)\n",
    "    except:\n",
    "        pass"
   ]
  },
  {
   "cell_type": "code",
   "execution_count": 98,
   "metadata": {},
   "outputs": [
    {
     "data": {
      "text/plain": [
       "['R$ 4.399,99',\n",
       " 'R$ 664,00',\n",
       " 'R$ 10.299,99',\n",
       " 'R$ 2.629,00',\n",
       " 'R$ 9.999,00',\n",
       " 'R$ 3.823,84',\n",
       " 'R$ 771,10',\n",
       " 'R$ 5.200,00',\n",
       " 'R$ 2.299,00',\n",
       " 'R$ 5.999,00',\n",
       " 'R$ 1.990,00',\n",
       " 'R$ 2.799,00',\n",
       " 'R$ 5.999,00',\n",
       " 'R$ 3.199,99',\n",
       " 'R$ 789,99',\n",
       " 'R$ 7.849,99',\n",
       " 'R$ 2.099,99',\n",
       " 'R$ 1.199,99',\n",
       " 'R$ 1.199,99',\n",
       " 'R$ 498,00',\n",
       " 'R$ 1.899,99',\n",
       " 'R$ 2.099,99',\n",
       " 'R$ 6.999,99',\n",
       " 'R$ 729,99',\n",
       " 'R$ 589,99',\n",
       " 'R$ 8.299,99',\n",
       " 'R$ 749,99',\n",
       " 'R$ 899,99',\n",
       " 'R$ 1.422,99',\n",
       " 'R$ 4.999,99',\n",
       " 'R$ 1.299,99',\n",
       " 'R$ 1.299,99',\n",
       " 'R$ 1.299,99',\n",
       " 'R$ 3.999,99',\n",
       " 'R$ 2.299,99',\n",
       " 'R$ 719,99',\n",
       " 'R$ 1.099,99',\n",
       " 'R$ 529,99',\n",
       " 'R$ 1.089,99',\n",
       " 'R$ 1.099,99',\n",
       " 'R$ 2.999,99',\n",
       " 'R$ 1.929,99',\n",
       " 'R$ 869,99',\n",
       " 'R$ 2.779,99',\n",
       " 'R$ 929,99',\n",
       " 'R$ 5.999,99',\n",
       " 'R$ 8.799,99',\n",
       " 'R$ 8.699,99',\n",
       " 'R$ 7.999,99',\n",
       " 'R$ 22.999,99',\n",
       " 'R$ 11.999,99',\n",
       " 'R$ 1.199,99',\n",
       " 'R$ 1.927,99',\n",
       " 'R$ 829,99',\n",
       " 'R$ 4.229,99',\n",
       " 'R$ 6.999,99',\n",
       " 'R$ 1.549,99',\n",
       " 'R$ 13.499,99',\n",
       " 'R$ 17.599,99',\n",
       " 'R$ 22.999,99',\n",
       " 'R$ 28.000,00',\n",
       " 'R$ 17.999,99',\n",
       " 'R$ 23.599,99',\n",
       " 'R$ 12.999,99',\n",
       " 'R$ 1.199,99',\n",
       " 'R$ 639,99',\n",
       " 'R$ 2.599,99',\n",
       " 'R$ 1.999,99',\n",
       " 'R$ 799,99',\n",
       " 'R$ 3.999,99',\n",
       " 'R$ 3.049,99',\n",
       " 'R$ 1.079,00',\n",
       " 'R$ 579,99',\n",
       " 'R$ 2.099,99']"
      ]
     },
     "execution_count": 98,
     "metadata": {},
     "output_type": "execute_result"
    }
   ],
   "source": [
    "lista_preco"
   ]
  },
  {
   "cell_type": "code",
   "execution_count": 99,
   "metadata": {},
   "outputs": [],
   "source": [
    "tabela1 = pd.DataFrame(lista_itens, columns=['Produto'])\n",
    "tabela2 = pd.DataFrame(lista_preco, columns=['Preço'])\n",
    "df = pd.concat([tabela1, tabela2], axis=1)"
   ]
  },
  {
   "cell_type": "code",
   "execution_count": 100,
   "metadata": {},
   "outputs": [],
   "source": [
    "df.to_csv('../basesoriginais/Dados_Kabum_org.csv')"
   ]
  },
  {
   "cell_type": "code",
   "execution_count": 101,
   "metadata": {},
   "outputs": [],
   "source": [
    "df['Preço'] = df.Preço.str.replace('R$','R$').str.split(' ').str.get(1).str.replace('.','').str.replace(',','.')"
   ]
  },
  {
   "cell_type": "code",
   "execution_count": 102,
   "metadata": {},
   "outputs": [],
   "source": [
    "df.to_csv('../basestratadas/Dados_Kabum_trt.csv')"
   ]
  }
 ],
 "metadata": {
  "kernelspec": {
   "display_name": "Python 3",
   "language": "python",
   "name": "python3"
  },
  "language_info": {
   "codemirror_mode": {
    "name": "ipython",
    "version": 3
   },
   "file_extension": ".py",
   "mimetype": "text/x-python",
   "name": "python",
   "nbconvert_exporter": "python",
   "pygments_lexer": "ipython3",
   "version": "3.12.2"
  }
 },
 "nbformat": 4,
 "nbformat_minor": 2
}
