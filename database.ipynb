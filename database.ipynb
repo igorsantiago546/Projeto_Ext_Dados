{
 "cells": [
  {
   "cell_type": "code",
   "execution_count": 1,
   "metadata": {},
   "outputs": [],
   "source": [
    "from sqlalchemy import create_engine\n",
    "import pandas as pd\n",
    "\n",
    "engine = create_engine('sqlite:///banco.db', echo=True)"
   ]
  },
  {
   "cell_type": "code",
   "execution_count": 3,
   "metadata": {},
   "outputs": [],
   "source": [
    "df = pd.read_csv('./basestratadas/Dados_tratados.csv')"
   ]
  },
  {
   "cell_type": "code",
   "execution_count": 4,
   "metadata": {},
   "outputs": [
    {
     "name": "stdout",
     "output_type": "stream",
     "text": [
      "2024-11-23 00:07:20,198 INFO sqlalchemy.engine.Engine BEGIN (implicit)\n",
      "2024-11-23 00:07:20,200 INFO sqlalchemy.engine.Engine PRAGMA main.table_info(\"dados\")\n",
      "2024-11-23 00:07:20,205 INFO sqlalchemy.engine.Engine [raw sql] ()\n",
      "2024-11-23 00:07:20,207 INFO sqlalchemy.engine.Engine PRAGMA temp.table_info(\"dados\")\n",
      "2024-11-23 00:07:20,208 INFO sqlalchemy.engine.Engine [raw sql] ()\n",
      "2024-11-23 00:07:20,210 INFO sqlalchemy.engine.Engine \n",
      "CREATE TABLE dados (\n",
      "\t\"Categoria\" TEXT, \n",
      "\t\"Desconto\" TEXT, \n",
      "\t\"Preço\" FLOAT, \n",
      "\t\"Produto\" TEXT, \n",
      "\t\"Unnamed: 0\" BIGINT\n",
      ")\n",
      "\n",
      "\n",
      "2024-11-23 00:07:20,210 INFO sqlalchemy.engine.Engine [no key 0.00088s] ()\n",
      "2024-11-23 00:07:20,230 INFO sqlalchemy.engine.Engine INSERT INTO dados (\"Categoria\", \"Desconto\", \"Preço\", \"Produto\", \"Unnamed: 0\") VALUES (?, ?, ?, ?, ?)\n",
      "2024-11-23 00:07:20,234 INFO sqlalchemy.engine.Engine [generated in 0.00269s] [('Coller', '-30%', 6.99, 'Ventoinha Rise Mode, 120mm, Preto - RM-BK-01-FB', 0), ('Coller', '-31%', 10.99, 'Ventoinha Rise Mode, 120mm, Branco - RM-FN-01-BW', 1), ('Coller', '-37%', 169.99, 'Water Cooler Rise Mode Gamer Black, RGB, 240mm, AMD/Intel, Preto - RM-WCB-02-RGB', 2), ('Coller', '-19%', 79.99, 'Kit Com 3 Ventoinhas Rise Mode Energy, 120mm, ARGB, Preto - FN-02-RGB-5V', 3), ('Coller', '-44%', 10.99, 'Pasta Térmica Rise Mode Silver Frost, 5g, Cinza - RM-TG-01-FRT', 4), ('Coller', '-31%', 109.99, 'Kit Com 5 Ventoinhas Rise Mode Crystal Sound, 120mm, ARGB, Transparente - RM-CS-02-ARGB', 5), ('Coller', '-18%', 64.99, 'Air Cooler Rise Mode Gamer G800, RGB, AMD/Intel, 90mm, Preto - RM-AC-O8-RGB', 6), ('Coller', '-50%', 4.99, 'Ventoinha Rise Mode Black, 80mm, Preto - RM-BK-02-FB', 7)  ... displaying 10 of 440 total bound parameter sets ...  ('SSD', None, 309.99, 'SSD 500GB SanDisk Plus NVMe, M.2, PCle, Gen3, Leitura 2400MB/s e Gravação 2400MB/s - SDSSDA3N-500G-G26', 38), ('SSD', None, 239.99, 'SSD 500GB Crucial BX500 SATA, 3D NAND, Leitura: 540Mb/s e Gravação: 500Mb/s - CT500BX500SSD1', 39)]\n",
      "2024-11-23 00:07:20,238 INFO sqlalchemy.engine.Engine COMMIT\n"
     ]
    },
    {
     "data": {
      "text/plain": [
       "440"
      ]
     },
     "execution_count": 4,
     "metadata": {},
     "output_type": "execute_result"
    }
   ],
   "source": [
    "df.to_sql('dados', con=engine, if_exists='replace', index=False)  \n"
   ]
  },
  {
   "cell_type": "code",
   "execution_count": 5,
   "metadata": {},
   "outputs": [
    {
     "name": "stdout",
     "output_type": "stream",
     "text": [
      "2024-11-23 00:07:30,886 INFO sqlalchemy.engine.Engine BEGIN (implicit)\n",
      "2024-11-23 00:07:30,886 INFO sqlalchemy.engine.Engine PRAGMA main.table_info(\"SELECT * FROM dados\")\n",
      "2024-11-23 00:07:30,886 INFO sqlalchemy.engine.Engine [raw sql] ()\n",
      "2024-11-23 00:07:30,886 INFO sqlalchemy.engine.Engine PRAGMA temp.table_info(\"SELECT * FROM dados\")\n",
      "2024-11-23 00:07:30,886 INFO sqlalchemy.engine.Engine [raw sql] ()\n",
      "2024-11-23 00:07:30,886 INFO sqlalchemy.engine.Engine SELECT * FROM dados\n",
      "2024-11-23 00:07:30,893 INFO sqlalchemy.engine.Engine [raw sql] ()\n",
      "2024-11-23 00:07:30,900 INFO sqlalchemy.engine.Engine ROLLBACK\n"
     ]
    }
   ],
   "source": [
    "df_lido = pd.read_sql('SELECT * FROM dados', con=engine)"
   ]
  }
 ],
 "metadata": {
  "kernelspec": {
   "display_name": "Python 3",
   "language": "python",
   "name": "python3"
  },
  "language_info": {
   "codemirror_mode": {
    "name": "ipython",
    "version": 3
   },
   "file_extension": ".py",
   "mimetype": "text/x-python",
   "name": "python",
   "nbconvert_exporter": "python",
   "pygments_lexer": "ipython3",
   "version": "3.12.2"
  }
 },
 "nbformat": 4,
 "nbformat_minor": 2
}
