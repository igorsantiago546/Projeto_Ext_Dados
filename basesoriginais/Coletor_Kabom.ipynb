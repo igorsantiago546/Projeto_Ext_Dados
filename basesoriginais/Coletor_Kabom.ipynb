{
 "cells": [
  {
   "cell_type": "code",
   "execution_count": 136,
   "metadata": {},
   "outputs": [],
   "source": [
    "import pandas as pd\n",
    "from selenium import webdriver\n",
    "from selenium.webdriver.common.by import By\n",
    "from selenium.webdriver.support.ui import WebDriverWait\n",
    "from selenium.webdriver.support.ui import Select\n",
    "from selenium.webdriver.support import expected_conditions as EC"
   ]
  },
  {
   "cell_type": "code",
   "execution_count": 137,
   "metadata": {},
   "outputs": [],
   "source": [
    "navegador = webdriver.Chrome()"
   ]
  },
  {
   "cell_type": "code",
   "execution_count": 138,
   "metadata": {},
   "outputs": [],
   "source": [
    "navegador.get('https://www.kabum.com.br/promocao/COMPUTADORKABUM')"
   ]
  },
  {
   "cell_type": "code",
   "execution_count": 139,
   "metadata": {},
   "outputs": [],
   "source": [
    "navegador.maximize_window()"
   ]
  },
  {
   "cell_type": "code",
   "execution_count": 140,
   "metadata": {},
   "outputs": [],
   "source": [
    "navegador.find_element(By.XPATH, '//*[@id=\"Filter\"]/label/select/option[4]').click()"
   ]
  },
  {
   "cell_type": "code",
   "execution_count": 141,
   "metadata": {},
   "outputs": [],
   "source": [
    "# Consultando os produtos\n",
    "try:\n",
    "    navegador.find_element(By.XPATH, '//*[@id=\"listing\"]/div[3]/div/div/div[2]/div/main/div[1]/article/a/div/button/div/h3/span').text\n",
    "except:\n",
    "    pass"
   ]
  },
  {
   "cell_type": "code",
   "execution_count": 142,
   "metadata": {},
   "outputs": [],
   "source": [
    "# Consulta o preço\n",
    "try:\n",
    "    navegador.find_element(By.XPATH, '//*[@id=\"listing\"]/div[3]/div/div/div[2]/div/main/div[1]/article/a/div/div[2]/div[2]/span').text\n",
    "except:\n",
    "    pass"
   ]
  },
  {
   "cell_type": "code",
   "execution_count": 153,
   "metadata": {},
   "outputs": [],
   "source": [
    "# Armazenar os produtos\n",
    "lista_itens = []\n",
    "for item in range(1,75):\n",
    "    try:\n",
    "        dado_item = navegador.find_element(By.XPATH, f'//*[@id=\"listing\"]/div[3]/div/div/div[2]/div/main/div[{item}]/article/a/div/button/div/h3/span').text\n",
    "        lista_itens.append(dado_item)\n",
    "    except:\n",
    "        pass"
   ]
  },
  {
   "cell_type": "code",
   "execution_count": null,
   "metadata": {},
   "outputs": [],
   "source": []
  },
  {
   "cell_type": "code",
   "execution_count": 154,
   "metadata": {},
   "outputs": [
    {
     "data": {
      "text/plain": [
       "['Notebook Gamer Acer Nitro V15 Intel Core i5-13420H, 8GB RAM, GeForce RTX 3050, SSD 512GB, 15.6\" FHD IPS 144Hz, Windows 11, Preto - ANV15-51-58AZ',\n",
       " 'Monitor Acer Nitro QG241Y EBII, 23.8\" LED IPS, Full HD, 100Hz, 1ms, HDMI e VGA, VESA, FreeSync - UM.QQ1AA.E02',\n",
       " 'Notebook Gamer Gigabyte Aorus 5 SE4 Intel Core i7-12700H, 8GB RAM, RTX 3070, 1TB SSD, 15.6, Windows 11 Home, Cinza - AORUS 5 SE4-73BR213SH',\n",
       " 'Notebook Vaio 15.6p I5-10210u, 8GB, 256GB,SSD Linux - 3341793 Chumbo Escuro Bivolt',\n",
       " 'Monitor Gamer Corsair Xeneon Flex OLED 45\" WQHD, 240Hz, 0.03ms, DisplayPort e HDMI, G-Sync e FreeSync Premium - CM-9030001-NA',\n",
       " 'Notebook Asus Vivobook 16x K3605zf, Intel Core I5-12500h, 16GB RAM, RTX 2050, SSD 512GB, Tela 16\" FHD, Linux Keepos, Preto - N1422',\n",
       " 'Monitor Gamer UltraWide LG, 27\", 100Hz, 5ms, HDMI - 27ms500-b',\n",
       " 'Monitor Gamer Corsair Xeneon 27\" OLED, 240Hz, QHD, 0.03ms, HDR, G-Sync e FreeSync Premium, Preto - CM-9030002-NA',\n",
       " 'Notebook Positivo Vision I15, Intel Core I5, 8GB, SSD 512GB, Tela 15.6 Full HD, Lumina Bar, Linux, Cinza',\n",
       " 'Monitor Gamer MSI OLED QUANTUM DOT MAG 341CQP, 34\" QHD, 175Hz, 0.3ms, DisplayPort e HDMI, HDR, Adaptive-Sync',\n",
       " 'Pc Gamer Verdant, Amd Ryzen 5-5600gt, 16GB DDR4, Radeon Vega 7, SSD 480GB, Windows 10 Trial, Preto',\n",
       " 'Notebook Vaio Fe15, Intel Core I5-10210u, 16GB, SSD 256GB, Tela 15.6\" Full HD, Linux, Cinza Escuro',\n",
       " 'Notebook Vaio FH15 Intel Core i5-12450H, 16GB RAM, GeForce RTX 3050 4GB, SSD 1TB, Tela 15.6\" Full HD, Shell EFI, Cinza Escuro',\n",
       " 'PC Gamer Concórdia Informática Intel Core i7-3770, 16GB, GeForce GTX 1650, SSD 480GB, Monitor 21 + Teclado e Mouse, Linux, Preto - 39767',\n",
       " 'Monitor Gamer Curvo KBM! GAMING MG320 27\", 180Hz, Full Hd, 1ms, DisplayPort e HDMI, Adaptive Sync, Ajuste De Ângulo - KGMG32027PT',\n",
       " 'Notebook Gamer ASUS TUF Gaming F15 FX507VU, Intel Core i7-13620H, RTX 4050, 16GB RAM, SSD 512GB, 15,6\", W11H, Mecha Gray - FX507VU-LP177W',\n",
       " 'Monitor Gamer KBM! GAMING MG800 34\", Ultrawide, 180Hz, QHD, 1ms, DisplayPort e HDMI, Adaptive Sync, 95% SRGB - KGMG80034PT',\n",
       " 'Monitor Gamer Curvo KBM! GAMING MG330 31.5\", 165Hz, Full Hd, 1ms, DisplayPort e HDMI, Adaptive Sync, Ajuste De Ângulo - KGMG33031PT',\n",
       " 'Monitor Gamer LG 29\" LED, Ultra Wide, 75Hz, Full HD, IPS, DisplayPort e HDMI, FreeSync, 99% sRGB, VESA, Preto - 29UM69G-B',\n",
       " 'Monitor LG 19.5\" HD, 75Hz, HDMI, Ajuste de Ângulo, VESA, Preto - 20MK400H-B',\n",
       " \"Monitor Gamer Asus TUF 27' IPS, 280 Hz, Full HD, 1ms, G-Sync, HDR 400, 99% sRGB, HDMI/DisplayPort, Ajuste de Altura, Vesa, Som - VG279QM\",\n",
       " 'Monitor Gamer Curvo ASUS TUF 23.6\", 165Hz, Full HD, 1ms, DisplayPort e HDMI, Adaptive Sync, VESA, Preto - VG24VQE',\n",
       " 'Monitor Gamer Aorus 43\", 144Hz, 4K, 1ms, HDR, DisplayPort, HDMI e USB-C, Quantum Dot, 97% DCI-P3, Preto - FV43U',\n",
       " 'Monitor Gamer Samsung 27\", Wide, 75Hz, Full HD, IPS, HDMI, FreeSync, VESA, Preto - LF27T350FHLMZD',\n",
       " 'Monitor Brazil PC 19\" HD, Widescreen, HDMI e VGA, VESA, Ajuste de Ângulo, Preto - BPC-19WE02-B',\n",
       " 'Notebook Gamer ASUS ROG Strix G16 Intel Core i7-13650HX, 8GB RAM, RTX 4050, SSD 512GB, 16\"FHD 165Hz IPS, KeepOS, Eclipse Gray - G614JU-N3367',\n",
       " 'Monitor Gamer LG 27 Full HD, IPS, HDMI e VESA, FreeSync, Ajuste de Ângulo, Bordas Finas - 27MP400-B',\n",
       " 'Monitor Gamer Curvo KBM! GAMING MG700 27\", 240hz, Full HD, 1ms, DisplayPort e HDMI, 96% SRGB, Adaptive Sync, Ajuste De Altura - KGMG70027PT',\n",
       " 'Monitor Gamer Curvo Philco 32\", 165Hz, Full HD, 1ms, DisplayPort e HDMI, HDR 10, FreeSync - PMG32C900FG',\n",
       " 'Notebook Gamer Acer Nitro V15 Intel Core i7-13620H, 16GB RAM, RTX 3050, SSD 512GB, 15.6\" Full HD IPS, 144Hz, Linux, Preto - ANV15-51-73E9',\n",
       " 'Monitor Gamer LG UltraGear 32\", 165Hz, QHD, 1ms, DisplayPort e HDMI, 95% sRGB, FreeSync Premium, HDR 10, VESA, Preto - 32GN600-B',\n",
       " 'Computador NTC Mini NUC Intel Celeron J4005, 4GB RAM, SSD 120GB, Windows 11 Pro, Preto - 1001',\n",
       " 'Monitor Gamer Cooler Master 27\", 165Hz, Full HD, 0.5ms, DisplayPort e HDMI, DCI-P3 90%, HDR - CMI-GM27-FFS-BR',\n",
       " 'Notebook Samsung Book, Intel Core i3-1115G4, 8GB RAM, SSD 256GB, 15.6 Full HD, Windows 11, Cinza Chumbo - NP550XDA-KV4BR',\n",
       " 'Computador Concórdia, Intel Core i5-10400F, 8GB DDR4, SSD 240GB, 200W, Linux, Preto - 35772',\n",
       " 'Monitor Gamer Concordia PCFort 27\", 165Hz, Full HD, 1ms, DisplayPort, HDMI e DVI, FreeSync, Ajuste de Ângulo - T2701',\n",
       " 'Monitor Gamer Gigabyte 24 Full HD, 165Hz, 1ms, IPS, HDMI e DisplayPort, 125% sRGB, HDR, FreeSync, Altura Ajustável - G24F2BR',\n",
       " 'Monitor Gamer LG 21.5\", 75Hz, Full HD, HDMI, FreeSync - 22MP410-B',\n",
       " 'Monitor Gamer Acer Nitro 23.8\", 165Hz, Full HD, 1ms, DisplayPort e HDMI, HDR, FreeSync Premium, VESA - QG241Y Pbiip',\n",
       " 'Monitor Asus TUF Gaming 27 Full HD, 165Hz, 1ms, IPS, HDMI e DisplayPort, FreeSync Premium, VESA - VG279Q1A',\n",
       " 'Monitor Asus Display ProArt 27 LED, 75Hz, IPS, HDMI e DisplayPort/USB-C, Altura Ajustável, VESA - PA278CV',\n",
       " 'Monitor Gamer Gigabyte 27\", 175Hz, QHD, 0.5ms, IPS, DisplayPort e HDMI, HDR, 140% sRGB, FreeSync Premium, VESA - M27Q-SA',\n",
       " 'Monitor Samsung 24\" Full HD, 75Hz, IPS, HDMI e DisplayPort, FreeSync, Ajuste de Angulo, VESA, Preto - LF24T450FQLMZD',\n",
       " 'Computador NTC Select Intel Core i5-10400, 8GB, SSD 256GB, 300W, Linux - 1004',\n",
       " 'Monitor Gamer LG UltraGear 27\", 144Hz, Full HD, 1ms, IPS, DisplayPort e HDMI, HDR 10, 99% sRGB, FreeSync Premium, VESA - 27GN65R',\n",
       " 'Mac Mini, Chip M2 da Apple com CPU de 8 núcleos e GPU de 10 núcleos, de 512 GB SSD, Prateado - MMFK3BZ/A',\n",
       " 'MacBook Air Apple 13\", M2, CPU 8 Núcleos, GPU 10 Núcleos, 8GB RAM, SSD 512GB, Cinza Espacial - MLXX3BZ/A',\n",
       " 'MacBook Air Apple 13\", M2, CPU 8 Núcleos, GPU 10 Núcleos, 8GB RAM, SSD 512GB, Estelar - MLY23BZ/A',\n",
       " 'MacBook Air Apple 13\", M2, CPU 8 Núcleos, GPU 8 Núcleos, 8GB RAM, SSD 256GB, Prateado - MLXY3BZ/A',\n",
       " 'Mac Studio Apple, CPU 12 Núcleos, GPU 30 Núcleos, Neural Engine 16 Núcleos, Prata - MQH73BZ/A',\n",
       " 'PC Gamer Concórdia Intel Core i7-12700F, 32GB RAM, GeForce RTX 4070, SSD 500GB, Linux, Preto - 40796',\n",
       " 'Monitor Dell S2721HN 27 Polegadas Full HD, 60Hz, HDMI, Com Inclinação, Base Removível - 210-BHSL',\n",
       " 'Monitor Gamer Curvo LG UltraGear LG 34\", UltraWide, 160Hz, WQHD, 1ms, DisplayPort e HDMI, AMD FreeSync Premium, HDR10, 99% sRGB - 34GP63A-B',\n",
       " 'Monitor Portátil Acer 15.6 Full HD, 60Hz, IPS, HDMI e USB, Som integrado, Preto - PM161Q',\n",
       " 'Notebook Samsung Galaxy Book3 360, Intel Core I5-1335U, 8GB RAM, SSD 256GB, 13.3 Full HD, Windows 11 Home, Grafite - NP730QFG-KF2BR',\n",
       " 'Notebook Gamer Lenovo Legion Slim 5i Intel Core I5-13420H, 16GB RAM, GeForce RTX3050, SSD 512GB, 16\" 2K QHD, Win 11, Cinza - 83D60003BR',\n",
       " 'Monitor Gamer Gigabyte 31\", 170Hz, QHD, 1ms, DisplayPort e HDMI, 109% sRGB, HDR, Adaptive-Sync - GS32QC SA',\n",
       " 'iMac Apple Tela Retina 24\" 4.5K, Chip M3, CPU 8 Núcleos GPU 8 Núcleos, SSD 256GB, Azul - MQRC3BZ/A',\n",
       " 'MacBook Pro Apple 14\", M3 Pro, CPU 12 Núcleos, GPU 18 Núcleos, 18GB RAM, SSD 1TB, Preto Espacial - MRX43BZ/A',\n",
       " 'MacBook Pro Apple 14\", M3 Max, CPU 14 Núcleos, GPU 30 Núcleos, 36GB RAM, SSD de 1TB, Preto Espacial - MRX53BZ/A',\n",
       " 'MacBook Pro Apple 14\", M3 Pro, CPU 11 Núcleos, GPU 14 Núcleos, 18GB RAM, SSD 512GB, Prateado - MRX63BZ/A',\n",
       " 'MacBook Pro Apple 14\", M3 Pro, CPU 12 Núcleos, GPU 18 Núcleos, 18GB RAM, SSD 1TB, Prateado - MRX73BZ/A',\n",
       " 'MacBook Pro Apple 14\", M3 Max, CPU 14 Núcleos, GPU 30 Núcleos, 36GB RAM, SSD 1TB, Cinza - MRX83BZ/A',\n",
       " 'MacBook Pro Apple 14\", M3, CPU 8 Núcleos, GPU 10 Núcleos, 8GB RAM, SSD 1TB, Cinza-espacial - MTL83BZ/A',\n",
       " 'Monitor Gamer AsRock 27\" 165Hz, Full HD, 1ms, IPS, DisplayPort e HDMI, HDR, FreeSync, 123% sRGB - PG27FF1A',\n",
       " 'Monitor Gamer AsRock 24.5\", 100Hz, Full HD, 1ms, IPS, DisplayPort e HDMI, FreeSync, 99% sRGB - CL25FF',\n",
       " 'Notebook ASUS VivoBook Go 15 E1504FA AMD RYZEN 5 7520U, 8GB RAM, SSD 256GB, 15,6\" LED FHD, W11 Home - E1504FA-NJ825W',\n",
       " 'Monitor Gamer ASUS TUF VG27AQL3A, 27 QHD, 180Hz, Fast IPS, 1ms, Freesync Premium, G-Sync, 130% sRGB, DisplayHDR 400 - 90LM09A0-B013X0',\n",
       " 'Monitor Gamer KBM! GAMING MG250 - 25\" LED Full HD, 180Hz, 1ms, HDMI e DisplayPort, Adaptive Sync, Ajuste de Ângulo - KGMG25025PT',\n",
       " 'Notebook Lenovo LOQ Intel Core i5-12450H, 16GB RAM, GeForce RTX 2050 4GB, SSD 512GB, 15.6\" Full HD, Windows 11 Home, Cinza - 83EU0001BR',\n",
       " 'Notebook Lenovo IdeaPad 1i Intel Core i5-1235U, 8GB RAM, SSD 512GB, Tela 15.6\" HD, Windows 11, Cinza - 82VY000QBR',\n",
       " 'Monitor Gamer MSI G274F, 27\", 180Hz, Full HD, 1ms, DisplayPort e HDMI, Adaptive-Sync',\n",
       " 'Monitor Gamer AOC 23.8\" Full HD, 100Hz, 1ms, IPS, DisplayPort e HDMI, Adaptive-Sync - 24G2E1',\n",
       " 'Computador NTC I3-12100, 8GB RAM, SSD 256 NVMe, Fonte 300W, Linux - Ntc 4400 As']"
      ]
     },
     "execution_count": 154,
     "metadata": {},
     "output_type": "execute_result"
    }
   ],
   "source": [
    "lista_itens"
   ]
  },
  {
   "cell_type": "code",
   "execution_count": 145,
   "metadata": {},
   "outputs": [],
   "source": [
    "# Armazenar preços\n",
    "lista_preco = []\n",
    "for item in range(1,75):\n",
    "    try:\n",
    "        dado_preco = navegador.find_element(By.XPATH, f'//*[@id=\"listing\"]/div[3]/div/div/div[2]/div/main/div[{item}]/article/a/div/div[2]/div[2]/span').text\n",
    "        lista_preco.append(dado_preco)\n",
    "    except:\n",
    "        pass"
   ]
  },
  {
   "cell_type": "code",
   "execution_count": 151,
   "metadata": {},
   "outputs": [
    {
     "data": {
      "text/plain": [
       "['R$ 1.299,99',\n",
       " 'R$ 1.299,99',\n",
       " 'R$ 1.299,99',\n",
       " 'R$ 3.999,99',\n",
       " 'R$ 2.299,99',\n",
       " 'R$ 719,99',\n",
       " 'R$ 1.099,99',\n",
       " 'R$ 529,99',\n",
       " 'R$ 1.089,99',\n",
       " 'R$ 1.099,99',\n",
       " 'R$ 2.999,99',\n",
       " 'R$ 1.929,99',\n",
       " 'R$ 869,99',\n",
       " 'R$ 2.779,99',\n",
       " 'R$ 929,99',\n",
       " 'R$ 5.999,99',\n",
       " 'R$ 8.799,99',\n",
       " 'R$ 8.699,99',\n",
       " 'R$ 7.999,99',\n",
       " 'R$ 22.999,99',\n",
       " 'R$ 11.999,99',\n",
       " 'R$ 1.199,99',\n",
       " 'R$ 1.927,99',\n",
       " 'R$ 829,99',\n",
       " 'R$ 4.229,99',\n",
       " 'R$ 6.999,99',\n",
       " 'R$ 1.549,99',\n",
       " 'R$ 13.499,99',\n",
       " 'R$ 17.599,99',\n",
       " 'R$ 22.999,99',\n",
       " 'R$ 28.000,00',\n",
       " 'R$ 17.999,99',\n",
       " 'R$ 23.599,99',\n",
       " 'R$ 12.999,99',\n",
       " 'R$ 1.199,99',\n",
       " 'R$ 639,99',\n",
       " 'R$ 2.599,99',\n",
       " 'R$ 1.999,99',\n",
       " 'R$ 799,99',\n",
       " 'R$ 3.999,99',\n",
       " 'R$ 3.049,99',\n",
       " 'R$ 1.079,00',\n",
       " 'R$ 579,99',\n",
       " 'R$ 2.099,99']"
      ]
     },
     "execution_count": 151,
     "metadata": {},
     "output_type": "execute_result"
    }
   ],
   "source": [
    "lista_preco"
   ]
  },
  {
   "cell_type": "code",
   "execution_count": 147,
   "metadata": {},
   "outputs": [],
   "source": [
    "tabela1 = pd.DataFrame(lista_itens, columns=['Produto'])\n",
    "tabela2 = pd.DataFrame(lista_preco, columns=['Preço'])\n",
    "df = pd.concat([tabela1, tabela2], axis=1)"
   ]
  },
  {
   "cell_type": "code",
   "execution_count": 148,
   "metadata": {},
   "outputs": [],
   "source": [
    "df.to_csv('../basesoriginais/Dados_Kabum_org.csv')"
   ]
  },
  {
   "cell_type": "code",
   "execution_count": 149,
   "metadata": {},
   "outputs": [],
   "source": [
    "df['Preço'] = df.Preço.str.replace('R$','R$').str.split(' ').str.get(1).str.replace('.','').str.replace(',','.')"
   ]
  },
  {
   "cell_type": "code",
   "execution_count": 150,
   "metadata": {},
   "outputs": [],
   "source": [
    "df.to_csv('../basestratadas/Dados_Kabum_trt.csv')"
   ]
  }
 ],
 "metadata": {
  "kernelspec": {
   "display_name": "Python 3",
   "language": "python",
   "name": "python3"
  },
  "language_info": {
   "codemirror_mode": {
    "name": "ipython",
    "version": 3
   },
   "file_extension": ".py",
   "mimetype": "text/x-python",
   "name": "python",
   "nbconvert_exporter": "python",
   "pygments_lexer": "ipython3",
   "version": "3.12.2"
  }
 },
 "nbformat": 4,
 "nbformat_minor": 2
}
